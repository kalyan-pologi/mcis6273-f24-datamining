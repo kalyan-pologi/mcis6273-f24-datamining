{
 "cells": [
  {
   "cell_type": "markdown",
   "id": "a5206f3f-150e-48d9-b7bb-949bd0bf2d76",
   "metadata": {},
   "source": [
    "# Heading Example\n",
    "This is a heading."
   ]
  },
  {
   "cell_type": "markdown",
   "id": "1d534586-4fc1-4efb-b761-8fccb26b1992",
   "metadata": {},
   "source": [
    "## Sub-heading Example\n",
    "This is a sub-heading."
   ]
  },
  {
   "cell_type": "markdown",
   "id": "703c3a38-ac0c-4f4f-904c-e443d89e947d",
   "metadata": {},
   "source": [
    "### List and Formatting\n",
    "- This is a bullet point.\n",
    "- **Bold Text** and _Italic Text_ for emphasis."
   ]
  },
  {
   "cell_type": "code",
   "execution_count": null,
   "id": "1d28f4a2-3ffb-4792-888a-463a0e1f2892",
   "metadata": {},
   "outputs": [],
   "source": []
  },
  {
   "cell_type": "code",
   "execution_count": null,
   "id": "bb334340-e45f-406d-88eb-00252af968e0",
   "metadata": {},
   "outputs": [],
   "source": []
  },
  {
   "cell_type": "code",
   "execution_count": null,
   "id": "ef278391-1f43-4a37-ae14-a3c33db12f0b",
   "metadata": {},
   "outputs": [],
   "source": []
  },
  {
   "cell_type": "code",
   "execution_count": null,
   "id": "d733588a-c5e5-488b-b74f-f9474ebc8efd",
   "metadata": {},
   "outputs": [],
   "source": []
  },
  {
   "cell_type": "code",
   "execution_count": null,
   "id": "39a30405-db11-4bee-9ae9-3cbceb062d74",
   "metadata": {},
   "outputs": [],
   "source": []
  },
  {
   "cell_type": "code",
   "execution_count": null,
   "id": "26f8661f-1cb4-4ade-ba82-d355c8343429",
   "metadata": {},
   "outputs": [],
   "source": []
  },
  {
   "cell_type": "code",
   "execution_count": null,
   "id": "d0d385d6-7f9a-47eb-b86c-cf6fca068df0",
   "metadata": {},
   "outputs": [],
   "source": []
  },
  {
   "cell_type": "code",
   "execution_count": null,
   "id": "6b2f24c9-cf34-4106-bf9d-d6132a7beeac",
   "metadata": {},
   "outputs": [],
   "source": []
  },
  {
   "cell_type": "code",
   "execution_count": null,
   "id": "187600d4-3905-4803-ada1-1ef5d0ab644d",
   "metadata": {},
   "outputs": [],
   "source": []
  }
 ],
 "metadata": {
  "kernelspec": {
   "display_name": "Python 3 (ipykernel)",
   "language": "python",
   "name": "python3"
  },
  "language_info": {
   "codemirror_mode": {
    "name": "ipython",
    "version": 3
   },
   "file_extension": ".py",
   "mimetype": "text/x-python",
   "name": "python",
   "nbconvert_exporter": "python",
   "pygments_lexer": "ipython3",
   "version": "3.11.7"
  },
  "widgets": {
   "application/vnd.jupyter.widget-state+json": {
    "state": {},
    "version_major": 2,
    "version_minor": 0
   }
  }
 },
 "nbformat": 4,
 "nbformat_minor": 5
}
